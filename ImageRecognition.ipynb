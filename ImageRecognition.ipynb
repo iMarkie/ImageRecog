{
 "cells": [
  {
   "cell_type": "markdown",
   "metadata": {},
   "source": [
    "# Image recognition Wetterskip Fryslan #"
   ]
  },
  {
   "cell_type": "markdown",
   "metadata": {},
   "source": [
    "De opdracht is om op lucht-/satellietfoto's water te onderscheiden van land. Hiermee zou het waterschap geautomatiseerd veranderingen in de waterstand kunnen detecteren."
   ]
  },
  {
   "cell_type": "markdown",
   "metadata": {},
   "source": [
    "### Aanpak ###"
   ]
  },
  {
   "cell_type": "markdown",
   "metadata": {},
   "source": [
    "Van een satellietfoto worden tegels gemaakt die dienen als de trainingsdata voor een classifier. \n",
    "\n",
    "Van dezelfde foto in zwart (water)/ wit (geen water) worden labels (water, oever, land gemaakt). "
   ]
  },
  {
   "cell_type": "markdown",
   "metadata": {},
   "source": [
    "### Functies, Import en Globale variabelen ###"
   ]
  },
  {
   "cell_type": "code",
   "execution_count": 1,
   "metadata": {},
   "outputs": [],
   "source": [
    "def sliding_window(image, stepSize, windowSize):\n",
    "\t# slide a window across the image\n",
    "\tfor y in range(0, image.shape[0], stepSize):\n",
    "\t\tfor x in range(0, image.shape[1], stepSize):\n",
    "\t\t\t# yield the current window\n",
    "\t\t\tyield (x, y, image[y:y + windowSize[1], x:x + windowSize[0]])\n",
    "\n",
    "def tegelen(image,size):\n",
    "    return np.array([image[x:x+size,y:y+size] for x in range(0, len(image),size) for y in range(0, len(image),size)])\n"
   ]
  },
  {
   "cell_type": "code",
   "execution_count": 61,
   "metadata": {},
   "outputs": [],
   "source": [
    "import numpy as np\n",
    "import matplotlib.pyplot as plt\n",
    "import matplotlib.cm as cm\n",
    "from scipy import ndimage as ndi\n",
    "from itertools import chain\n",
    "from time import time\n",
    "#import logging\n",
    "\n",
    "from skimage.external import tifffile\n",
    "from skimage.color import rgb2gray\n",
    "from skimage.io import imshow\n",
    "from skimage.feature import local_binary_pattern\n",
    "\n",
    "import pandas as pd\n",
    "\n",
    "from sklearn.model_selection import train_test_split\n",
    "from sklearn.model_selection import GridSearchCV\n",
    "from sklearn.metrics import classification_report\n",
    "from sklearn.metrics import confusion_matrix\n",
    "from sklearn.metrics import accuracy_score\n",
    "from sklearn.svm import LinearSVC"
   ]
  },
  {
   "cell_type": "markdown",
   "metadata": {},
   "source": [
    "## Aanmaken trainingsdata ##"
   ]
  },
  {
   "cell_type": "markdown",
   "metadata": {},
   "source": [
    "### Inlezen image ###\n",
    "Inlezen image en verdelen in tegels om zo meer traingsdata te krijgen"
   ]
  },
  {
   "cell_type": "code",
   "execution_count": 3,
   "metadata": {},
   "outputs": [],
   "source": [
    "im = tifffile.imread('water.tif', key=0)"
   ]
  },
  {
   "cell_type": "code",
   "execution_count": 5,
   "metadata": {},
   "outputs": [],
   "source": [
    "#verdeel image in vierkante tegels met zijde z\n",
    "z = 10\n",
    "tegels = tegelen(im,z)"
   ]
  },
  {
   "cell_type": "code",
   "execution_count": 6,
   "metadata": {},
   "outputs": [],
   "source": [
    "#Zet om in grijswaarden\n",
    "#List van 10.000 regels met 10 x 10 waarden\n",
    "tegel_grys = [rgb2gray(tegel) for tegel in tegels]"
   ]
  },
  {
   "cell_type": "code",
   "execution_count": null,
   "metadata": {},
   "outputs": [],
   "source": [
    "#Laat een tegel zien\n",
    "plt.imshow(tegel_grys[9002], cmap=cm.gray)"
   ]
  },
  {
   "cell_type": "markdown",
   "metadata": {},
   "source": [
    "### Inlezen van zwart/wit image ###\n",
    "zwart/wit image. WIT = Land. ZWART = Water."
   ]
  },
  {
   "cell_type": "code",
   "execution_count": 7,
   "metadata": {},
   "outputs": [],
   "source": [
    "im_lab = tifffile.imread('water_labels.tif', key=0)"
   ]
  },
  {
   "cell_type": "code",
   "execution_count": null,
   "metadata": {},
   "outputs": [],
   "source": [
    "plt.imshow(im_lab, cmap=cm.gray)"
   ]
  },
  {
   "cell_type": "code",
   "execution_count": 8,
   "metadata": {},
   "outputs": [],
   "source": [
    "#verdeel image in vierkante tegels met zijde z\n",
    "#10.000 regels van 10 x 10\n",
    "tegels_lab = tegelen(im_lab,z)"
   ]
  },
  {
   "cell_type": "code",
   "execution_count": 9,
   "metadata": {},
   "outputs": [],
   "source": [
    "#Elke regel omzetten naar 1 waarde. 1.0 = Land, 0.0 = Water. Alles er tussen is oever.\n",
    "labels = [(np.sum(tegels_lab[x])/25500 for x in range(0,len(tegels_lab))]"
   ]
  },
  {
   "cell_type": "markdown",
   "metadata": {},
   "source": [
    "##### Labels toevoegen aan Image #####\n",
    "Image omzetten naar dataframe. Labels toevoegen."
   ]
  },
  {
   "cell_type": "code",
   "execution_count": 10,
   "metadata": {},
   "outputs": [],
   "source": [
    "tegels_flat = [list(chain.from_iterable(tegel)) for tegel in tegel_grys]"
   ]
  },
  {
   "cell_type": "code",
   "execution_count": 11,
   "metadata": {
    "scrolled": false
   },
   "outputs": [],
   "source": [
    "tf_df = pd.DataFrame(tegels_flat)"
   ]
  },
  {
   "cell_type": "code",
   "execution_count": 13,
   "metadata": {},
   "outputs": [],
   "source": [
    "tf_df['label'] = labels"
   ]
  },
  {
   "cell_type": "code",
   "execution_count": 15,
   "metadata": {
    "scrolled": true
   },
   "outputs": [],
   "source": [
    "#Alleen Land en Water overhouden.\n",
    "tf_df.drop(tf_df[(tf_df.label < 1.0) & (tf_df.label > 0.0)].index, inplace=True)"
   ]
  },
  {
   "cell_type": "code",
   "execution_count": 39,
   "metadata": {},
   "outputs": [],
   "source": [
    "y = (tf_df['label'])\n",
    "X = tf_df.iloc[:,0:100]"
   ]
  },
  {
   "cell_type": "code",
   "execution_count": 43,
   "metadata": {},
   "outputs": [],
   "source": [
    "y = y.astype(int)"
   ]
  },
  {
   "cell_type": "code",
   "execution_count": 45,
   "metadata": {},
   "outputs": [],
   "source": [
    "#Opsplitsen data in train en test data\n",
    "X_train, X_test, y_train, y_test = train_test_split(X, y, test_size=0.75, random_state=0)"
   ]
  },
  {
   "cell_type": "markdown",
   "metadata": {},
   "source": [
    "### Trainen van een classifier ###"
   ]
  },
  {
   "cell_type": "code",
   "execution_count": 50,
   "metadata": {},
   "outputs": [],
   "source": [
    "clf = LinearSVC()"
   ]
  },
  {
   "cell_type": "code",
   "execution_count": 52,
   "metadata": {
    "scrolled": true
   },
   "outputs": [
    {
     "data": {
      "text/plain": [
       "LinearSVC(C=1.0, class_weight=None, dual=True, fit_intercept=True,\n",
       "     intercept_scaling=1, loss='squared_hinge', max_iter=1000,\n",
       "     multi_class='ovr', penalty='l2', random_state=None, tol=0.0001,\n",
       "     verbose=0)"
      ]
     },
     "execution_count": 52,
     "metadata": {},
     "output_type": "execute_result"
    }
   ],
   "source": [
    "clf.fit(X_train, y_train)"
   ]
  },
  {
   "cell_type": "code",
   "execution_count": 62,
   "metadata": {},
   "outputs": [
    {
     "name": "stdout",
     "output_type": "stream",
     "text": [
      "Predicting Land (1) of Water(0)\n",
      "done in 0.007s\n",
      "             precision    recall  f1-score   support\n",
      "\n",
      "          0       1.00      0.00      0.00      1801\n",
      "          1       0.75      1.00      0.86      5342\n",
      "\n",
      "avg / total       0.81      0.75      0.64      7143\n",
      "\n",
      "[[   4 1797]\n",
      " [   0 5342]]\n",
      "0.74842503149937\n"
     ]
    }
   ],
   "source": [
    "#Hoe goed werkt het model\n",
    "\n",
    "print(\"Predicting Land (1) of Water(0)\")\n",
    "t0 = time()\n",
    "y_pred = clf.predict(X_test)\n",
    "print(\"done in %0.3fs\" % (time() - t0))\n",
    "\n",
    "print(classification_report(y_test, y_pred))\n",
    "print(confusion_matrix(y_test, y_pred))\n",
    "print(accuracy_score(y_test, y_pred))"
   ]
  }
 ],
 "metadata": {
  "kernelspec": {
   "display_name": "Python 3",
   "language": "python",
   "name": "python3"
  },
  "language_info": {
   "codemirror_mode": {
    "name": "ipython",
    "version": 3
   },
   "file_extension": ".py",
   "mimetype": "text/x-python",
   "name": "python",
   "nbconvert_exporter": "python",
   "pygments_lexer": "ipython3",
   "version": "3.6.4"
  }
 },
 "nbformat": 4,
 "nbformat_minor": 2
}
